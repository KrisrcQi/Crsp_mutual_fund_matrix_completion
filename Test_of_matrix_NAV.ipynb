{
  "nbformat": 4,
  "nbformat_minor": 0,
  "metadata": {
    "colab": {
      "provenance": [],
      "authorship_tag": "ABX9TyPUD51w7NMMVSh1wH+ohBrg",
      "include_colab_link": true
    },
    "kernelspec": {
      "name": "python3",
      "display_name": "Python 3"
    },
    "language_info": {
      "name": "python"
    }
  },
  "cells": [
    {
      "cell_type": "markdown",
      "metadata": {
        "id": "view-in-github",
        "colab_type": "text"
      },
      "source": [
        "<a href=\"https://colab.research.google.com/github/KrisrcQi/Crsp_mutual_fund_matrix_completion/blob/main/Test_of_matrix_NAV.ipynb\" target=\"_parent\"><img src=\"https://colab.research.google.com/assets/colab-badge.svg\" alt=\"Open In Colab\"/></a>"
      ]
    },
    {
      "cell_type": "code",
      "execution_count": null,
      "metadata": {
        "colab": {
          "base_uri": "https://localhost:8080/"
        },
        "id": "2XF_shbFvgwG",
        "outputId": "576ca00c-48ba-43fa-b5ea-4d1e03b29a8d"
      },
      "outputs": [
        {
          "output_type": "stream",
          "name": "stdout",
          "text": [
            "      Unnamed: 0       caldt  crsp_fundno  mtna     mnav\n",
            "0              0  28/06/2019        95598   0.1  10.0100\n",
            "1              1  31/07/2019        95598   0.1  10.0100\n",
            "2              2  30/08/2019        95598   0.1  10.0200\n",
            "3              3  30/09/2019        95598   0.1  10.0200\n",
            "4              4  31/10/2019        95598   0.1  10.0200\n",
            "...          ...         ...          ...   ...      ...\n",
            "9980        9980  30/04/2020        96709   2.3  10.8100\n",
            "9981        9981  31/03/2020        96710   0.1  10.0000\n",
            "9982        9982  30/04/2020        96710   0.1  10.8100\n",
            "9983        9983  31/03/2020        96711   4.0  40.0000\n",
            "9984        9984  30/04/2020        96711  13.8  44.3728\n",
            "\n",
            "[9985 rows x 5 columns]\n",
            "26/02/2010\n",
            "31/12/2019\n"
          ]
        }
      ],
      "source": [
        "import pandas as pd\n",
        "import numpy as np\n",
        "\n",
        "\n",
        "# Reading the data file\n",
        "# Checking the empty cells in the dataset\n",
        "df = pd.read_csv('Downsized dataset(10k row).csv')\n",
        "print(df)\n",
        "small_date = df['caldt'].min()\n",
        "print(small_date)\n",
        "max_date = df['caldt'].max()\n",
        "print(max_date)\n",
        "\n"
      ]
    },
    {
      "cell_type": "code",
      "source": [
        "df_1 = df[: 633]\n",
        "df_1 = df.drop(['caldt'], axis=1)\n",
        "df_1"
      ],
      "metadata": {
        "id": "zULEVio-xcCK",
        "colab": {
          "base_uri": "https://localhost:8080/",
          "height": 424
        },
        "outputId": "9effe670-da2e-4270-8068-283faec8f7b8"
      },
      "execution_count": null,
      "outputs": [
        {
          "output_type": "execute_result",
          "data": {
            "text/plain": [
              "      Unnamed: 0  crsp_fundno  mtna     mnav\n",
              "0              0        95598   0.1  10.0100\n",
              "1              1        95598   0.1  10.0100\n",
              "2              2        95598   0.1  10.0200\n",
              "3              3        95598   0.1  10.0200\n",
              "4              4        95598   0.1  10.0200\n",
              "...          ...          ...   ...      ...\n",
              "9980        9980        96709   2.3  10.8100\n",
              "9981        9981        96710   0.1  10.0000\n",
              "9982        9982        96710   0.1  10.8100\n",
              "9983        9983        96711   4.0  40.0000\n",
              "9984        9984        96711  13.8  44.3728\n",
              "\n",
              "[9985 rows x 4 columns]"
            ],
            "text/html": [
              "\n",
              "  <div id=\"df-e36a38d9-6801-4b8a-83e5-f6594b800da8\">\n",
              "    <div class=\"colab-df-container\">\n",
              "      <div>\n",
              "<style scoped>\n",
              "    .dataframe tbody tr th:only-of-type {\n",
              "        vertical-align: middle;\n",
              "    }\n",
              "\n",
              "    .dataframe tbody tr th {\n",
              "        vertical-align: top;\n",
              "    }\n",
              "\n",
              "    .dataframe thead th {\n",
              "        text-align: right;\n",
              "    }\n",
              "</style>\n",
              "<table border=\"1\" class=\"dataframe\">\n",
              "  <thead>\n",
              "    <tr style=\"text-align: right;\">\n",
              "      <th></th>\n",
              "      <th>Unnamed: 0</th>\n",
              "      <th>crsp_fundno</th>\n",
              "      <th>mtna</th>\n",
              "      <th>mnav</th>\n",
              "    </tr>\n",
              "  </thead>\n",
              "  <tbody>\n",
              "    <tr>\n",
              "      <th>0</th>\n",
              "      <td>0</td>\n",
              "      <td>95598</td>\n",
              "      <td>0.1</td>\n",
              "      <td>10.0100</td>\n",
              "    </tr>\n",
              "    <tr>\n",
              "      <th>1</th>\n",
              "      <td>1</td>\n",
              "      <td>95598</td>\n",
              "      <td>0.1</td>\n",
              "      <td>10.0100</td>\n",
              "    </tr>\n",
              "    <tr>\n",
              "      <th>2</th>\n",
              "      <td>2</td>\n",
              "      <td>95598</td>\n",
              "      <td>0.1</td>\n",
              "      <td>10.0200</td>\n",
              "    </tr>\n",
              "    <tr>\n",
              "      <th>3</th>\n",
              "      <td>3</td>\n",
              "      <td>95598</td>\n",
              "      <td>0.1</td>\n",
              "      <td>10.0200</td>\n",
              "    </tr>\n",
              "    <tr>\n",
              "      <th>4</th>\n",
              "      <td>4</td>\n",
              "      <td>95598</td>\n",
              "      <td>0.1</td>\n",
              "      <td>10.0200</td>\n",
              "    </tr>\n",
              "    <tr>\n",
              "      <th>...</th>\n",
              "      <td>...</td>\n",
              "      <td>...</td>\n",
              "      <td>...</td>\n",
              "      <td>...</td>\n",
              "    </tr>\n",
              "    <tr>\n",
              "      <th>9980</th>\n",
              "      <td>9980</td>\n",
              "      <td>96709</td>\n",
              "      <td>2.3</td>\n",
              "      <td>10.8100</td>\n",
              "    </tr>\n",
              "    <tr>\n",
              "      <th>9981</th>\n",
              "      <td>9981</td>\n",
              "      <td>96710</td>\n",
              "      <td>0.1</td>\n",
              "      <td>10.0000</td>\n",
              "    </tr>\n",
              "    <tr>\n",
              "      <th>9982</th>\n",
              "      <td>9982</td>\n",
              "      <td>96710</td>\n",
              "      <td>0.1</td>\n",
              "      <td>10.8100</td>\n",
              "    </tr>\n",
              "    <tr>\n",
              "      <th>9983</th>\n",
              "      <td>9983</td>\n",
              "      <td>96711</td>\n",
              "      <td>4.0</td>\n",
              "      <td>40.0000</td>\n",
              "    </tr>\n",
              "    <tr>\n",
              "      <th>9984</th>\n",
              "      <td>9984</td>\n",
              "      <td>96711</td>\n",
              "      <td>13.8</td>\n",
              "      <td>44.3728</td>\n",
              "    </tr>\n",
              "  </tbody>\n",
              "</table>\n",
              "<p>9985 rows × 4 columns</p>\n",
              "</div>\n",
              "      <button class=\"colab-df-convert\" onclick=\"convertToInteractive('df-e36a38d9-6801-4b8a-83e5-f6594b800da8')\"\n",
              "              title=\"Convert this dataframe to an interactive table.\"\n",
              "              style=\"display:none;\">\n",
              "        \n",
              "  <svg xmlns=\"http://www.w3.org/2000/svg\" height=\"24px\"viewBox=\"0 0 24 24\"\n",
              "       width=\"24px\">\n",
              "    <path d=\"M0 0h24v24H0V0z\" fill=\"none\"/>\n",
              "    <path d=\"M18.56 5.44l.94 2.06.94-2.06 2.06-.94-2.06-.94-.94-2.06-.94 2.06-2.06.94zm-11 1L8.5 8.5l.94-2.06 2.06-.94-2.06-.94L8.5 2.5l-.94 2.06-2.06.94zm10 10l.94 2.06.94-2.06 2.06-.94-2.06-.94-.94-2.06-.94 2.06-2.06.94z\"/><path d=\"M17.41 7.96l-1.37-1.37c-.4-.4-.92-.59-1.43-.59-.52 0-1.04.2-1.43.59L10.3 9.45l-7.72 7.72c-.78.78-.78 2.05 0 2.83L4 21.41c.39.39.9.59 1.41.59.51 0 1.02-.2 1.41-.59l7.78-7.78 2.81-2.81c.8-.78.8-2.07 0-2.86zM5.41 20L4 18.59l7.72-7.72 1.47 1.35L5.41 20z\"/>\n",
              "  </svg>\n",
              "      </button>\n",
              "      \n",
              "  <style>\n",
              "    .colab-df-container {\n",
              "      display:flex;\n",
              "      flex-wrap:wrap;\n",
              "      gap: 12px;\n",
              "    }\n",
              "\n",
              "    .colab-df-convert {\n",
              "      background-color: #E8F0FE;\n",
              "      border: none;\n",
              "      border-radius: 50%;\n",
              "      cursor: pointer;\n",
              "      display: none;\n",
              "      fill: #1967D2;\n",
              "      height: 32px;\n",
              "      padding: 0 0 0 0;\n",
              "      width: 32px;\n",
              "    }\n",
              "\n",
              "    .colab-df-convert:hover {\n",
              "      background-color: #E2EBFA;\n",
              "      box-shadow: 0px 1px 2px rgba(60, 64, 67, 0.3), 0px 1px 3px 1px rgba(60, 64, 67, 0.15);\n",
              "      fill: #174EA6;\n",
              "    }\n",
              "\n",
              "    [theme=dark] .colab-df-convert {\n",
              "      background-color: #3B4455;\n",
              "      fill: #D2E3FC;\n",
              "    }\n",
              "\n",
              "    [theme=dark] .colab-df-convert:hover {\n",
              "      background-color: #434B5C;\n",
              "      box-shadow: 0px 1px 3px 1px rgba(0, 0, 0, 0.15);\n",
              "      filter: drop-shadow(0px 1px 2px rgba(0, 0, 0, 0.3));\n",
              "      fill: #FFFFFF;\n",
              "    }\n",
              "  </style>\n",
              "\n",
              "      <script>\n",
              "        const buttonEl =\n",
              "          document.querySelector('#df-e36a38d9-6801-4b8a-83e5-f6594b800da8 button.colab-df-convert');\n",
              "        buttonEl.style.display =\n",
              "          google.colab.kernel.accessAllowed ? 'block' : 'none';\n",
              "\n",
              "        async function convertToInteractive(key) {\n",
              "          const element = document.querySelector('#df-e36a38d9-6801-4b8a-83e5-f6594b800da8');\n",
              "          const dataTable =\n",
              "            await google.colab.kernel.invokeFunction('convertToInteractive',\n",
              "                                                     [key], {});\n",
              "          if (!dataTable) return;\n",
              "\n",
              "          const docLinkHtml = 'Like what you see? Visit the ' +\n",
              "            '<a target=\"_blank\" href=https://colab.research.google.com/notebooks/data_table.ipynb>data table notebook</a>'\n",
              "            + ' to learn more about interactive tables.';\n",
              "          element.innerHTML = '';\n",
              "          dataTable['output_type'] = 'display_data';\n",
              "          await google.colab.output.renderOutput(dataTable, element);\n",
              "          const docLink = document.createElement('div');\n",
              "          docLink.innerHTML = docLinkHtml;\n",
              "          element.appendChild(docLink);\n",
              "        }\n",
              "      </script>\n",
              "    </div>\n",
              "  </div>\n",
              "  "
            ]
          },
          "metadata": {},
          "execution_count": 51
        }
      ]
    },
    {
      "cell_type": "code",
      "source": [
        "print(type(first_column))\n",
        "print(first_column)\n",
        "\n",
        "# Convert object-type column to float\n",
        "df_1['caldt'] = df_1['caldt'].astype(str)\n",
        "\n",
        "first_column = df_1.iloc[:, 1]\n",
        "# Verify the conversion\n",
        "print(first_column)"
      ],
      "metadata": {
        "colab": {
          "base_uri": "https://localhost:8080/"
        },
        "id": "M7HeJ7bg0Rm_",
        "outputId": "5ca7f683-7557-4279-d8bd-28faf5e184b7"
      },
      "execution_count": null,
      "outputs": [
        {
          "output_type": "stream",
          "name": "stdout",
          "text": [
            "<class 'pandas.core.series.Series'>\n",
            "0      28/06/2019\n",
            "1      31/07/2019\n",
            "2      30/08/2019\n",
            "3      30/09/2019\n",
            "4      31/10/2019\n",
            "          ...    \n",
            "628    31/03/2020\n",
            "629    30/04/2020\n",
            "630    31/07/2019\n",
            "631    30/08/2019\n",
            "632    30/09/2019\n",
            "Name: caldt, Length: 633, dtype: object\n",
            "0      28/06/2019\n",
            "1      31/07/2019\n",
            "2      30/08/2019\n",
            "3      30/09/2019\n",
            "4      31/10/2019\n",
            "          ...    \n",
            "628    31/03/2020\n",
            "629    30/04/2020\n",
            "630    31/07/2019\n",
            "631    30/08/2019\n",
            "632    30/09/2019\n",
            "Name: caldt, Length: 633, dtype: object\n"
          ]
        },
        {
          "output_type": "stream",
          "name": "stderr",
          "text": [
            "<ipython-input-50-bb0a17d836f9>:5: SettingWithCopyWarning: \n",
            "A value is trying to be set on a copy of a slice from a DataFrame.\n",
            "Try using .loc[row_indexer,col_indexer] = value instead\n",
            "\n",
            "See the caveats in the documentation: https://pandas.pydata.org/pandas-docs/stable/user_guide/indexing.html#returning-a-view-versus-a-copy\n",
            "  df_1['caldt'] = df_1['caldt'].astype(str)\n"
          ]
        }
      ]
    },
    {
      "cell_type": "code",
      "source": [
        "print(type(second_column))\n",
        "print(second_column)"
      ],
      "metadata": {
        "colab": {
          "base_uri": "https://localhost:8080/"
        },
        "id": "mTTaG6rMxwBS",
        "outputId": "1fa3e33d-2b2e-4c6b-9b37-2bc12cb400c3"
      },
      "execution_count": null,
      "outputs": [
        {
          "output_type": "stream",
          "name": "stdout",
          "text": [
            "<class 'pandas.core.series.Series'>\n",
            "0      95598.0\n",
            "1      95598.0\n",
            "2      95598.0\n",
            "3      95598.0\n",
            "4      95598.0\n",
            "        ...   \n",
            "628    95638.0\n",
            "629    95638.0\n",
            "630    95639.0\n",
            "631    95639.0\n",
            "632    95639.0\n",
            "Name: crsp_fundno, Length: 633, dtype: float64\n"
          ]
        }
      ]
    },
    {
      "cell_type": "code",
      "source": [
        "\n",
        "mf_id = list(range(95598, 95608))\n",
        "# Create an empty DataFrame\n",
        "# Create a date range from '2008-07' to '2020-04'\n",
        "date_range = pd.date_range('2008-07', '2020-04', freq='M')\n",
        "\n",
        "# Create a new DataFrame with the 'date' column\n",
        "df_2 = pd.DataFrame({'date': date_range})\n",
        "\n",
        "# Convert the 'date' column to string datatype\n",
        "df_2['date'] = df_2['date'].dt.strftime('%Y-%m')\n",
        "\n",
        "column_names = [i for i in range(95598, 95608)]\n",
        "df_2 = pd.concat([df_2, pd.DataFrame(columns=column_names)], ignore_index=True)\n",
        "\n",
        "print(df_2)"
      ],
      "metadata": {
        "colab": {
          "base_uri": "https://localhost:8080/"
        },
        "id": "y3Ftlvk6x9K-",
        "outputId": "3df1d596-d979-4628-dea1-8f58ef2190fa"
      },
      "execution_count": null,
      "outputs": [
        {
          "output_type": "stream",
          "name": "stdout",
          "text": [
            "        date 95598 95599 95600 95601 95602 95603 95604 95605 95606 95607\n",
            "0    2008-07   NaN   NaN   NaN   NaN   NaN   NaN   NaN   NaN   NaN   NaN\n",
            "1    2008-08   NaN   NaN   NaN   NaN   NaN   NaN   NaN   NaN   NaN   NaN\n",
            "2    2008-09   NaN   NaN   NaN   NaN   NaN   NaN   NaN   NaN   NaN   NaN\n",
            "3    2008-10   NaN   NaN   NaN   NaN   NaN   NaN   NaN   NaN   NaN   NaN\n",
            "4    2008-11   NaN   NaN   NaN   NaN   NaN   NaN   NaN   NaN   NaN   NaN\n",
            "..       ...   ...   ...   ...   ...   ...   ...   ...   ...   ...   ...\n",
            "136  2019-11   NaN   NaN   NaN   NaN   NaN   NaN   NaN   NaN   NaN   NaN\n",
            "137  2019-12   NaN   NaN   NaN   NaN   NaN   NaN   NaN   NaN   NaN   NaN\n",
            "138  2020-01   NaN   NaN   NaN   NaN   NaN   NaN   NaN   NaN   NaN   NaN\n",
            "139  2020-02   NaN   NaN   NaN   NaN   NaN   NaN   NaN   NaN   NaN   NaN\n",
            "140  2020-03   NaN   NaN   NaN   NaN   NaN   NaN   NaN   NaN   NaN   NaN\n",
            "\n",
            "[141 rows x 11 columns]\n"
          ]
        }
      ]
    },
    {
      "cell_type": "code",
      "source": [
        "for i in range(len(mf_id)):\n",
        "  print(i)\n",
        "  for j in range(len(df_1)):\n",
        "    for k in range(len(df_2)):\n",
        "      if (df_1.iloc[j]['crsp_fundno']) == mf_id[i]:\n",
        "        if(df_1.iloc[j]['caldt']) == df_2.iloc[k]['date']:\n",
        "          df_2.iloc[k, i+1] = df_1.iloc[j]['mnav']\n",
        "\n",
        "print(df_2)\n",
        "df_2.to_csv('Matrix_NAV.csv')\n"
      ],
      "metadata": {
        "colab": {
          "base_uri": "https://localhost:8080/"
        },
        "id": "csGBksG2v-d6",
        "outputId": "4b13cf56-a916-44df-c9d3-e73311bad08a"
      },
      "execution_count": null,
      "outputs": [
        {
          "output_type": "stream",
          "name": "stdout",
          "text": [
            "0\n",
            "1\n",
            "2\n",
            "3\n",
            "4\n",
            "5\n",
            "6\n",
            "7\n",
            "8\n",
            "9\n",
            "        date 95598 95599 95600 95601 95602 95603 95604 95605 95606 95607\n",
            "0    2008-07   NaN   NaN   NaN   NaN   NaN   NaN   NaN   NaN   NaN   NaN\n",
            "1    2008-08   NaN   NaN   NaN   NaN   NaN   NaN   NaN   NaN   NaN   NaN\n",
            "2    2008-09   NaN   NaN   NaN   NaN   NaN   NaN   NaN   NaN   NaN   NaN\n",
            "3    2008-10   NaN   NaN   NaN   NaN   NaN   NaN   NaN   NaN   NaN   NaN\n",
            "4    2008-11   NaN   NaN   NaN   NaN   NaN   NaN   NaN   NaN   NaN   NaN\n",
            "..       ...   ...   ...   ...   ...   ...   ...   ...   ...   ...   ...\n",
            "136  2019-11   NaN   NaN   NaN   NaN   NaN   NaN   NaN   NaN   NaN   NaN\n",
            "137  2019-12   NaN   NaN   NaN   NaN   NaN   NaN   NaN   NaN   NaN   NaN\n",
            "138  2020-01   NaN   NaN   NaN   NaN   NaN   NaN   NaN   NaN   NaN   NaN\n",
            "139  2020-02   NaN   NaN   NaN   NaN   NaN   NaN   NaN   NaN   NaN   NaN\n",
            "140  2020-03   NaN   NaN   NaN   NaN   NaN   NaN   NaN   NaN   NaN   NaN\n",
            "\n",
            "[141 rows x 11 columns]\n"
          ]
        }
      ]
    },
    {
      "cell_type": "code",
      "source": [
        "!pip install torch-geometric"
      ],
      "metadata": {
        "colab": {
          "base_uri": "https://localhost:8080/"
        },
        "id": "SCUabDEj5ZbJ",
        "outputId": "b5a07465-c99f-4c01-dc83-3c82b66718f5"
      },
      "execution_count": null,
      "outputs": [
        {
          "output_type": "stream",
          "name": "stdout",
          "text": [
            "Collecting torch-geometric\n",
            "  Downloading torch_geometric-2.3.1.tar.gz (661 kB)\n",
            "\u001b[?25l     \u001b[90m━━━━━━━━━━━━━━━━━━━━━━━━━━━━━━━━━━━━━━━━\u001b[0m \u001b[32m0.0/661.6 kB\u001b[0m \u001b[31m?\u001b[0m eta \u001b[36m-:--:--\u001b[0m\r\u001b[2K     \u001b[91m━━━━━━━━━━━━━━━━━━━━━━━━━━\u001b[0m\u001b[90m╺\u001b[0m\u001b[90m━━━━━━━━━━━\u001b[0m \u001b[32m460.8/661.6 kB\u001b[0m \u001b[31m13.9 MB/s\u001b[0m eta \u001b[36m0:00:01\u001b[0m\r\u001b[2K     \u001b[90m━━━━━━━━━━━━━━━━━━━━━━━━━━━━━━━━━━━━━━\u001b[0m \u001b[32m661.6/661.6 kB\u001b[0m \u001b[31m11.9 MB/s\u001b[0m eta \u001b[36m0:00:00\u001b[0m\n",
            "\u001b[?25h  Installing build dependencies ... \u001b[?25l\u001b[?25hdone\n",
            "  Getting requirements to build wheel ... \u001b[?25l\u001b[?25hdone\n",
            "  Preparing metadata (pyproject.toml) ... \u001b[?25l\u001b[?25hdone\n",
            "Requirement already satisfied: tqdm in /usr/local/lib/python3.10/dist-packages (from torch-geometric) (4.65.0)\n",
            "Requirement already satisfied: numpy in /usr/local/lib/python3.10/dist-packages (from torch-geometric) (1.22.4)\n",
            "Requirement already satisfied: scipy in /usr/local/lib/python3.10/dist-packages (from torch-geometric) (1.10.1)\n",
            "Requirement already satisfied: jinja2 in /usr/local/lib/python3.10/dist-packages (from torch-geometric) (3.1.2)\n",
            "Requirement already satisfied: requests in /usr/local/lib/python3.10/dist-packages (from torch-geometric) (2.27.1)\n",
            "Requirement already satisfied: pyparsing in /usr/local/lib/python3.10/dist-packages (from torch-geometric) (3.1.0)\n",
            "Requirement already satisfied: scikit-learn in /usr/local/lib/python3.10/dist-packages (from torch-geometric) (1.2.2)\n",
            "Requirement already satisfied: psutil>=5.8.0 in /usr/local/lib/python3.10/dist-packages (from torch-geometric) (5.9.5)\n",
            "Requirement already satisfied: MarkupSafe>=2.0 in /usr/local/lib/python3.10/dist-packages (from jinja2->torch-geometric) (2.1.3)\n",
            "Requirement already satisfied: urllib3<1.27,>=1.21.1 in /usr/local/lib/python3.10/dist-packages (from requests->torch-geometric) (1.26.16)\n",
            "Requirement already satisfied: certifi>=2017.4.17 in /usr/local/lib/python3.10/dist-packages (from requests->torch-geometric) (2023.5.7)\n",
            "Requirement already satisfied: charset-normalizer~=2.0.0 in /usr/local/lib/python3.10/dist-packages (from requests->torch-geometric) (2.0.12)\n",
            "Requirement already satisfied: idna<4,>=2.5 in /usr/local/lib/python3.10/dist-packages (from requests->torch-geometric) (3.4)\n",
            "Requirement already satisfied: joblib>=1.1.1 in /usr/local/lib/python3.10/dist-packages (from scikit-learn->torch-geometric) (1.2.0)\n",
            "Requirement already satisfied: threadpoolctl>=2.0.0 in /usr/local/lib/python3.10/dist-packages (from scikit-learn->torch-geometric) (3.1.0)\n",
            "Building wheels for collected packages: torch-geometric\n",
            "  Building wheel for torch-geometric (pyproject.toml) ... \u001b[?25l\u001b[?25hdone\n",
            "  Created wheel for torch-geometric: filename=torch_geometric-2.3.1-py3-none-any.whl size=910459 sha256=3445bb49895e4a89aff3a93b6774b194080a8de877b4bf92c35b0aaf345ff0f9\n",
            "  Stored in directory: /root/.cache/pip/wheels/ac/dc/30/e2874821ff308ee67dcd7a66dbde912411e19e35a1addda028\n",
            "Successfully built torch-geometric\n",
            "Installing collected packages: torch-geometric\n",
            "Successfully installed torch-geometric-2.3.1\n"
          ]
        }
      ]
    },
    {
      "cell_type": "code",
      "source": [],
      "metadata": {
        "id": "RkFOS5Dj5neh"
      },
      "execution_count": null,
      "outputs": []
    },
    {
      "cell_type": "code",
      "source": [
        "import torch\n",
        "import torch.nn as nn\n",
        "import torch.optim as optim\n",
        "import torch.nn.functional as F\n",
        "from torch_geometric.data import Data, DataLoader\n",
        "from torch_geometric.nn import GCNConv\n",
        "\n",
        "data = df_1\n",
        "num_features = 10\n",
        "\n",
        "# Step 1: Convert matrix to graph representation\n",
        "adjacency_matrix = torch.tensor(data.values)  # Convert matrix to tensor\n",
        "edge_index = adjacency_matrix.nonzero().t()  # Get indices of non-zero values as edges\n",
        "x = torch.randn(adjacency_matrix.size(0), num_features)  # Node features (randomly initialized)\n"
      ],
      "metadata": {
        "id": "xvnNwNJp357A"
      },
      "execution_count": null,
      "outputs": []
    },
    {
      "cell_type": "code",
      "source": [
        "adjacency_matrix\n"
      ],
      "metadata": {
        "colab": {
          "base_uri": "https://localhost:8080/"
        },
        "id": "XNaFBjYJMdK7",
        "outputId": "ad580f55-9907-44a6-cc55-4693b56a7184"
      },
      "execution_count": null,
      "outputs": [
        {
          "output_type": "execute_result",
          "data": {
            "text/plain": [
              "tensor([[0.00e+00, 9.56e+04, 1.00e-01, 1.00e+01],\n",
              "        [1.00e+00, 9.56e+04, 1.00e-01, 1.00e+01],\n",
              "        [2.00e+00, 9.56e+04, 1.00e-01, 1.00e+01],\n",
              "        ...,\n",
              "        [9.98e+03, 9.67e+04, 1.00e-01, 1.08e+01],\n",
              "        [9.98e+03, 9.67e+04, 4.00e+00, 4.00e+01],\n",
              "        [9.98e+03, 9.67e+04, 1.38e+01, 4.44e+01]], dtype=torch.float64)"
            ]
          },
          "metadata": {},
          "execution_count": 86
        }
      ]
    },
    {
      "cell_type": "code",
      "source": [
        "edge_index"
      ],
      "metadata": {
        "colab": {
          "base_uri": "https://localhost:8080/"
        },
        "id": "iWEzdA2DMngh",
        "outputId": "77af6d9d-229a-43c5-87e4-410cf29c8ad0"
      },
      "execution_count": null,
      "outputs": [
        {
          "output_type": "execute_result",
          "data": {
            "text/plain": [
              "tensor([[   0,    0,    0,  ..., 9984, 9984, 9984],\n",
              "        [   1,    2,    3,  ...,    1,    2,    3]])"
            ]
          },
          "metadata": {},
          "execution_count": 87
        }
      ]
    },
    {
      "cell_type": "code",
      "source": [
        "x"
      ],
      "metadata": {
        "colab": {
          "base_uri": "https://localhost:8080/"
        },
        "id": "meB4KIBYMq_J",
        "outputId": "51810d74-f07f-4c8f-bfaf-a642b6a8c394"
      },
      "execution_count": null,
      "outputs": [
        {
          "output_type": "execute_result",
          "data": {
            "text/plain": [
              "tensor([[-0.75, -0.21, -0.05,  ..., -2.18,  0.40, -0.68],\n",
              "        [-1.45,  0.91, -0.21,  ...,  0.46,  0.27,  0.35],\n",
              "        [-1.86, -1.65,  1.20,  ...,  0.15, -0.57, -1.19],\n",
              "        ...,\n",
              "        [ 1.43,  1.13, -0.54,  ...,  0.64, -0.90, -0.68],\n",
              "        [-2.75,  0.51, -0.04,  ...,  0.34,  1.37, -2.48],\n",
              "        [ 1.37,  0.54, -0.23,  ...,  0.40,  0.49,  1.71]])"
            ]
          },
          "metadata": {},
          "execution_count": 88
        }
      ]
    },
    {
      "cell_type": "code",
      "source": [
        "# Step 2: Split the dataset\n",
        "# Randomly remove some values to create observed values dataset\n",
        "observed_matrix = adjacency_matrix.clone()\n",
        "indices = torch.randperm(adjacency_matrix.numel())[:int(0.8 * adjacency_matrix.numel())]\n",
        "observed_matrix.reshape(-1)[indices] = float('nan')\n",
        "# Keep missing values as the evaluation dataset\n",
        "missing_values = adjacency_matrix.clone()\n",
        "missing_values.reshape(-1)[indices] = float('nan')"
      ],
      "metadata": {
        "id": "l5UOs7Kq460h"
      },
      "execution_count": null,
      "outputs": []
    },
    {
      "cell_type": "code",
      "source": [
        "# Step 3: Construct the GNN model\n",
        "class GNNModel(nn.Module):\n",
        "    def __init__(self, input_dim, hidden_dim):\n",
        "        super(GNNModel, self).__init__()\n",
        "        self.conv1 = GCNConv(input_dim, hidden_dim)\n",
        "        self.conv2 = GCNConv(hidden_dim, hidden_dim)\n",
        "        self.fc = nn.Linear(hidden_dim, 1)\n",
        "\n",
        "    def forward(self, x, edge_index):\n",
        "        x = F.relu(self.conv1(x, edge_index))\n",
        "        x = F.relu(self.conv2(x, edge_index))\n",
        "        x = self.fc(x).squeeze()\n",
        "        return x\n",
        "\n",
        "input_dim = num_features  # Dimensionality of input features\n",
        "hidden_dim = 64  # Dimensionality of hidden layers\n",
        "\n",
        "model = GNNModel(input_dim, hidden_dim)"
      ],
      "metadata": {
        "id": "JU6l-jx24-MJ"
      },
      "execution_count": null,
      "outputs": []
    },
    {
      "cell_type": "code",
      "source": [
        "# Step 4: Train the GNN model\n",
        "criterion = nn.MSELoss()  # Mean Squared Error loss\n",
        "optimizer = optim.Adam(model.parameters(), lr=0.01)\n",
        "\n",
        "data = Data(x=x, edge_index=edge_index)\n",
        "loader = DataLoader([data], batch_size=64)  # DataLoader for a single graph\n",
        "\n",
        "num_epochs = 40\n",
        "\n",
        "# Training loop\n",
        "for epoch in range(num_epochs):\n",
        "    model.train()\n",
        "    for batch in loader:\n",
        "        optimizer.zero_grad()\n",
        "        output = model(batch.x, batch.edge_index)\n",
        "        target = batch.x.t()  # Transpose the target tensor to match output shape\n",
        "        loss = criterion(output, target)\n",
        "        loss.backward()\n",
        "        optimizer.step()\n",
        "        print('Epoch[{}/{}], loss:{:,6f}'.format(i, num_epochs, loss.data))"
      ],
      "metadata": {
        "id": "uKo6Edy54_3R",
        "colab": {
          "base_uri": "https://localhost:8080/"
        },
        "outputId": "c5e32c17-57cc-4d51-ece8-bdb2f32eb9f4"
      },
      "execution_count": null,
      "outputs": [
        {
          "output_type": "stream",
          "name": "stderr",
          "text": [
            "/usr/local/lib/python3.10/dist-packages/torch_geometric/deprecation.py:22: UserWarning: 'data.DataLoader' is deprecated, use 'loader.DataLoader' instead\n",
            "  warnings.warn(out)\n",
            "/usr/local/lib/python3.10/dist-packages/torch/nn/modules/loss.py:536: UserWarning: Using a target size (torch.Size([10, 9985])) that is different to the input size (torch.Size([9985])). This will likely lead to incorrect results due to broadcasting. Please ensure they have the same size.\n",
            "  return F.mse_loss(input, target, reduction=self.reduction)\n"
          ]
        }
      ]
    },
    {
      "cell_type": "code",
      "source": [
        "# Step 5: Evaluate the GNN model\n",
        "model.eval()\n",
        "with torch.no_grad():\n",
        "    missing_values_prediction = model(x, edge_index)  # Predict missing values\n",
        "\n",
        "\n",
        "# Convert the predicted missing values back to a matrix\n",
        "predicted_matrix = adjacency_matrix.clone().double()  # Convert predicted_matrix to Double data type\n",
        "selected_indices = indices[:missing_values_prediction.size(0)]\n",
        "predicted_matrix.reshape(-1)[selected_indices] = missing_values_prediction.double()  # Convert missing_values_prediction to Double data type\n",
        "\n"
      ],
      "metadata": {
        "id": "TKhtHgQ-4xvR"
      },
      "execution_count": null,
      "outputs": []
    },
    {
      "cell_type": "code",
      "source": [
        "# Print the predicted matrix\n",
        "torch.set_printoptions(precision=2)\n",
        "print(predicted_matrix)"
      ],
      "metadata": {
        "colab": {
          "base_uri": "https://localhost:8080/"
        },
        "id": "tWGq3YkF5DUh",
        "outputId": "074f3a2a-2a97-41e5-e005-9df189d91211"
      },
      "execution_count": null,
      "outputs": [
        {
          "output_type": "stream",
          "name": "stdout",
          "text": [
            "tensor([[0.00e+00, 9.56e+04, 1.00e-01, 1.00e+01],\n",
            "        [1.00e+00, 9.56e+04, 1.00e-01, 1.00e+01],\n",
            "        [2.00e+00, 9.56e+04, 1.00e-01, 1.00e+01],\n",
            "        ...,\n",
            "        [9.98e+03, 9.67e+04, 1.00e-01, 1.08e+01],\n",
            "        [9.98e+03, 9.67e+04, 4.00e+00, 4.00e+01],\n",
            "        [9.98e+03, 9.67e+04, 1.38e+01, 4.44e+01]], dtype=torch.float64)\n"
          ]
        }
      ]
    },
    {
      "cell_type": "code",
      "source": [
        "# Convert the tensor to a NumPy array\n",
        "predicted_array = predicted_matrix.numpy()\n",
        "\n",
        "# Create a new DataFrame from the array\n",
        "predicted_df = pd.DataFrame(predicted_array)\n",
        "\n",
        "# Print the new DataFrame\n",
        "print(predicted_df)"
      ],
      "metadata": {
        "colab": {
          "base_uri": "https://localhost:8080/"
        },
        "id": "MR2O4mBsCNiR",
        "outputId": "7ab9845b-8dd4-4d9d-b9cd-a503396bb1d3"
      },
      "execution_count": null,
      "outputs": [
        {
          "output_type": "stream",
          "name": "stdout",
          "text": [
            "           0        1     2        3\n",
            "0        0.0  95598.0   0.1  10.0100\n",
            "1        1.0  95598.0   0.1  10.0100\n",
            "2        2.0  95598.0   0.1  10.0200\n",
            "3        3.0  95598.0   0.1  10.0200\n",
            "4        4.0  95598.0   0.1  10.0200\n",
            "...      ...      ...   ...      ...\n",
            "9980  9980.0  96709.0   2.3  10.8100\n",
            "9981  9981.0  96710.0   0.1  10.0000\n",
            "9982  9982.0  96710.0   0.1  10.8100\n",
            "9983  9983.0  96711.0   4.0  40.0000\n",
            "9984  9984.0  96711.0  13.8  44.3728\n",
            "\n",
            "[9985 rows x 4 columns]\n"
          ]
        }
      ]
    },
    {
      "cell_type": "code",
      "source": [
        "predicted_df.to_csv('predicted matrix.csv')"
      ],
      "metadata": {
        "id": "FhneBR90CT4Q"
      },
      "execution_count": null,
      "outputs": []
    }
  ]
}